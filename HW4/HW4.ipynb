{
 "cells": [
  {
   "cell_type": "code",
   "execution_count": 54,
   "metadata": {},
   "outputs": [
    {
     "name": "stdout",
     "output_type": "stream",
     "text": [
      "Reading data...\n",
      "done\n"
     ]
    }
   ],
   "source": [
    "import numpy\n",
    "import urllib\n",
    "import scipy.optimize\n",
    "import random\n",
    "from collections import defaultdict\n",
    "from sklearn import linear_model\n",
    "from sklearn.metrics import mean_squared_error\n",
    "import string\n",
    "\n",
    "\n",
    "def parseData(fname):\n",
    "  for l in urllib.urlopen(fname):\n",
    "    yield eval(l)\n",
    "    \n",
    "print \"Reading data...\"\n",
    "data = list(parseData(\"beer_50000.json\"))[:5000]\n",
    "print \"done\"\n",
    "punctuation = set(string.punctuation)"
   ]
  },
  {
   "cell_type": "code",
   "execution_count": 55,
   "metadata": {},
   "outputs": [
    {
     "name": "stdout",
     "output_type": "stream",
     "text": [
      "Question 1:\n",
      "Answer 1:\n",
      "[(4587, 'with a'), (2595, 'in the'), (2245, 'of the'), (2056, 'is a'), (2033, 'on the')]\n",
      "numbre of unique bigrams:  182246\n"
     ]
    }
   ],
   "source": [
    "print 'Question 1:'\n",
    "bigramCount = defaultdict(int)\n",
    "for d in data:\n",
    "    r = ''.join([c for c in d['review/text'].lower() if not c in punctuation])\n",
    "    wl = r.split()\n",
    "    if len(wl) > 1:\n",
    "        for i in range(len(wl)-1):\n",
    "            bg = wl[i] + ' ' + wl [i+1]\n",
    "            bigramCount[bg] += 1\n",
    "\n",
    "mostPop =  [(bigramCount[bg],bg)for bg in bigramCount.keys()]\n",
    "mostPop.sort()\n",
    "mostPop.reverse()\n",
    "print 'Answer 1:'\n",
    "print mostPop[:5]\n",
    "print 'numbre of unique bigrams: ', len(bigramCount.keys()) "
   ]
  },
  {
   "cell_type": "code",
   "execution_count": 56,
   "metadata": {},
   "outputs": [
    {
     "name": "stdout",
     "output_type": "stream",
     "text": [
      "Question 2:\n",
      "MSE: 0.343153014061\n"
     ]
    }
   ],
   "source": [
    "print 'Question 2:'\n",
    "bigrs = [mp[1] for mp in mostPop[:1000]]\n",
    "bigrsId = dict(zip(bigrs, range(len(bigrs))))\n",
    "bigrsSet = set(bigrs)\n",
    "\n",
    "def getbgs(wordlist):\n",
    "  bgs = []  \n",
    "  for i in range(len(wordlist)-1):\n",
    "    s = wordlist[i] + ' ' + wordlist[i+1]\n",
    "    bgs.append(s)\n",
    "  return bgs\n",
    "\n",
    "def featureQ2(datum):\n",
    "  feat = [0]*1000\n",
    "  r = ''.join([c for c in datum['review/text'].lower() if not c in punctuation])\n",
    "  bgs = getbgs(r.split())\n",
    "  for b in bgs:\n",
    "    if b in bigrsSet:\n",
    "      feat[bigrsId[b]] += 1\n",
    "  feat.append(1) #offset\n",
    "  return feat\n",
    "\n",
    "X = [featureQ2(d) for d in data]\n",
    "y = [d['review/overall'] for d in data]\n",
    "\n",
    "clf = linear_model.Ridge(1.0, fit_intercept=False)\n",
    "clf.fit(X, y)\n",
    "predictions = clf.predict(X)\n",
    "print \"MSE: \" + str(mean_squared_error(predictions,y))\n"
   ]
  },
  {
   "cell_type": "code",
   "execution_count": 57,
   "metadata": {},
   "outputs": [
    {
     "name": "stdout",
     "output_type": "stream",
     "text": [
      "Question 3:\n",
      "MSE 0.289047333034\n"
     ]
    }
   ],
   "source": [
    "print 'Question 3:'\n",
    "\n",
    "def getbgs(wordlist):\n",
    "  bgs = []  \n",
    "  for i in range(len(wordlist)-1):\n",
    "    s = wordlist[i] + ' ' + wordlist[i+1]\n",
    "    bgs.append(s)\n",
    "  return bgs\n",
    "\n",
    "b_n_u = defaultdict(int)\n",
    "punctuation = set(string.punctuation)\n",
    "\n",
    "for d in data:\n",
    "  r = ''.join([c for c in d['review/text'].lower() if not c in punctuation])\n",
    "  wordlist = r.split()\n",
    "  for w in wordlist:\n",
    "    b_n_u[w] += 1\n",
    "  blist = getbgs(wordlist)\n",
    "  for s in blist:\n",
    "    b_n_u[s] += 1\n",
    "\n",
    "bcounts = [(b_n_u[w], w) for w in b_n_u.keys()]\n",
    "bcounts.sort()\n",
    "bcounts.reverse()\n",
    "\n",
    "mix1000 = [x[1] for x in bcounts[:1000]]\n",
    "mixgramId = dict(zip(mix1000, range(len(mix1000))))\n",
    "mix1000Set = set(mix1000)\n",
    "\n",
    "def featureQ3(datum):\n",
    "  feat = [0]*1000\n",
    "  r = ''.join([c for c in datum['review/text'].lower() if not c in punctuation])\n",
    "  wordlist = r.split()\n",
    "  for w in wordlist:\n",
    "    if w in mix1000Set:\n",
    "      feat[mixgramId[w]] += 1\n",
    "  blist = getbgs(wordlist)\n",
    "  for b in blist:\n",
    "    if b in mix1000Set:\n",
    "      feat[mixgramId[b]] += 1\n",
    "  feat.append(1) #offset\n",
    "  return feat\n",
    "\n",
    "X = [featureQ3(d) for d in data]\n",
    "y = [d['review/overall'] for d in data]\n",
    "\n",
    "clf = linear_model.Ridge(1.0, fit_intercept=False)\n",
    "clf.fit(X, y)\n",
    "predictions = clf.predict(X)\n",
    "theta = clf.coef_\n",
    "print \"MSE \" + str(mean_squared_error(predictions,y))"
   ]
  },
  {
   "cell_type": "code",
   "execution_count": 58,
   "metadata": {},
   "outputs": [
    {
     "name": "stdout",
     "output_type": "stream",
     "text": [
      "Question 4:\n",
      "Negative:  ['sort of', 'water', 'corn', 'the background', 'straw']\n",
      "Positive:  ['sort', 'a bad', 'of these', 'not bad', 'the best']\n"
     ]
    }
   ],
   "source": [
    "print 'Question 4:'\n",
    "weights = zip (theta[:1000],range(len(theta[:1000])))\n",
    "weights.sort()\n",
    "neg = [mix1000[weights[i][1]] for i in range(5)]\n",
    "print 'Negative: ', neg\n",
    "weights.reverse()\n",
    "pos = [mix1000[weights[i][1]] for i in range(5)]\n",
    "print 'Positive: ', pos"
   ]
  },
  {
   "cell_type": "code",
   "execution_count": 59,
   "metadata": {
    "scrolled": false
   },
   "outputs": [
    {
     "name": "stdout",
     "output_type": "stream",
     "text": [
      "Question 5:\n",
      "idf foam : 1.13786862069\n",
      "idf smell : 0.537901618865\n",
      "idf banana : 1.67778070527\n",
      "idf lactic : 2.92081875395\n",
      "idf tart : 1.80687540165\n",
      "{'foam': 0.046443617170896435, 'smell': 0.010977584058466208, 'banana': 0.06848084511290124, 'lactic': 0.11921709199805611, 'tart': 0.03687500819684771}\n"
     ]
    }
   ],
   "source": [
    "import math\n",
    "print 'Question 5:'\n",
    "idf = defaultdict(float)\n",
    "punctuation = set(string.punctuation)\n",
    "for d in data:\n",
    "  r = ''.join([c for c in d['review/text'].lower() if not c in punctuation])\n",
    "  for w in set(r.split()):\n",
    "    idf[w] += 1\n",
    "docs = len(data)\n",
    "for k in idf:\n",
    "  idf[k] = math.log(docs/float(idf[k]))/math.log(10)\n",
    "t = ['foam', 'smell', 'banana', 'lactic', 'tart']\n",
    "tfidf = defaultdict(float)\n",
    "for w in t:\n",
    "  print \"idf \" + w + \" : \" + str(idf[w])\n",
    "d = data[0]\n",
    "tf = defaultdict(float)\n",
    "r = ''.join([c for c in d['review/text'].lower() if not c in punctuation])\n",
    "for w in r.split():\n",
    "  if w in t:\n",
    "    tf[w] += 1\n",
    "for w in t:\n",
    "    tf[w] = float(tf[w])/len(r.split())\n",
    "    tfidf[w] = tf[w]*idf[w]\n",
    "tfidf = dict(tfidf)\n",
    "print tfidf"
   ]
  },
  {
   "cell_type": "code",
   "execution_count": null,
   "metadata": {
    "collapsed": true
   },
   "outputs": [],
   "source": []
  },
  {
   "cell_type": "code",
   "execution_count": 60,
   "metadata": {},
   "outputs": [
    {
     "name": "stdout",
     "output_type": "stream",
     "text": [
      "Question 6:\n",
      "cosine similariy: 0.106130241679\n"
     ]
    }
   ],
   "source": [
    "print 'Question 6:'\n",
    "\n",
    "def idf(t):\n",
    "    docfreq = 0\n",
    "    for d in data:\n",
    "        r = ''.join([c for c in d['review/text'].lower() if not c in punctuation])\n",
    "        if t in r.split():\n",
    "            docfreq += 1\n",
    "    return  math.log(len(data)/float(docfreq))/math.log(10)\n",
    "\n",
    "def tf(t, i):\n",
    "    freq = 0\n",
    "    r = ''.join([c for c in data[i]['review/text'].lower() if not c in punctuation])\n",
    "    if len(r.split())> 0:\n",
    "        for w in r.split():\n",
    "            if w == t:\n",
    "                freq += 1\n",
    "        freq =  float(freq)/len(r.split())\n",
    "    return freq\n",
    "\n",
    "uniCount = defaultdict(int)\n",
    "for d in data:\n",
    "    r = ''.join([c for c in d['review/text'].lower() if not c in punctuation])\n",
    "    for w in r.split():\n",
    "        uniCount[w] += 1\n",
    "counts = [(uniCount[w], w) for w in uniCount]\n",
    "counts.sort()\n",
    "counts.reverse()\n",
    "uni1000 = [x[1] for x in counts[:1000]]\n",
    "uni1000_idf = defaultdict(float)\n",
    "for w in uni1000:\n",
    "    uni1000_idf[w] = idf(w)\n",
    "tfidfrv1 = [tf(w, 0) * uni1000_idf[w] for w in uni1000]\n",
    "tfidfrv2 = [tf(w, 1) * uni1000_idf[w] for w in uni1000]\n",
    "dot_prod = sum(tfidfrv1[i] * tfidfrv2[i] for i in range(1000))\n",
    "two_norm_prod = numpy.sqrt(sum(tfidfrv1[i]**2 for i in range(1000)))*numpy.sqrt(sum(tfidfrv2[i]**2 for i in range(1000)))\n",
    "cs = float(dot_prod) / two_norm_prod\n",
    "print \"cosine similariy: \" + str(cs)"
   ]
  },
  {
   "cell_type": "code",
   "execution_count": 61,
   "metadata": {},
   "outputs": [
    {
     "name": "stdout",
     "output_type": "stream",
     "text": [
      "Question 7:\n"
     ]
    },
    {
     "name": "stderr",
     "output_type": "stream",
     "text": [
      "C:\\Users\\Khor_000\\Anaconda2\\lib\\site-packages\\ipykernel_launcher.py:9: RuntimeWarning: invalid value encountered in double_scalars\n",
      "  if __name__ == '__main__':\n"
     ]
    },
    {
     "name": "stdout",
     "output_type": "stream",
     "text": [
      "beer most similar to first : \n",
      "beerId:  52211\n",
      "profileName:  Heatwave33\n"
     ]
    }
   ],
   "source": [
    "print 'Question 7:'\n",
    "maxi = 0\n",
    "maxcs = -1000\n",
    "tidrv1 = [tf(w, 0) * uni1000_idf[w] for w in uni1000]\n",
    "for i in range(1, len(data)):\n",
    "    tidrv2 = [tf(w, i) * uni1000_idf[w] for w in uni1000]\n",
    "    dot_prod = sum(tidrv1[i] * tidrv2[i] for i in range(1000))\n",
    "    two_norm_prod = numpy.sqrt(sum(tidrv1[i]**2 for i in range(1000))) * numpy.sqrt(sum(tidrv2[i]**2 for i in range(1000)))\n",
    "    cs = float(dot_prod) /two_norm_prod \n",
    "    if cs > maxcs:\n",
    "        maxcs = cs\n",
    "        maxi = i\n",
    "print \"beer most similar to first : \" \n",
    "print 'beerId: ', data[maxi]['beer/beerId']\n",
    "print 'profileName: ', data[maxi]['user/profileName']\n",
    "\n"
   ]
  },
  {
   "cell_type": "code",
   "execution_count": 62,
   "metadata": {},
   "outputs": [
    {
     "name": "stdout",
     "output_type": "stream",
     "text": [
      "Question 8:\n",
      "MSE: 0.508110529164\n"
     ]
    }
   ],
   "source": [
    "print 'Question 8:'\n",
    "wordCount = defaultdict(int)\n",
    "punctuation = set(string.punctuation)\n",
    "for d in data:\n",
    "  r = ''.join([c for c in d['review/text'].lower() if not c in punctuation])\n",
    "  for w in r.split():\n",
    "    wordCount[w] += 1\n",
    "counts = [(wordCount[w], w) for w in wordCount]\n",
    "counts.sort()\n",
    "counts.reverse()\n",
    "words1000 = [x[1] for x in counts[:1000]]\n",
    "wordId = dict(zip(words1000, range(len(words1000))))\n",
    "idf = defaultdict(float)\n",
    "for d in data:\n",
    "  r = ''.join([c for c in d['review/text'].lower() if not c in punctuation])\n",
    "  for w in set(r.split()):\n",
    "    idf[w] += 1\n",
    "docs = len(data)\n",
    "for k in idf:\n",
    "  idf[k] = math.log(docs/float(idf[k]))/math.log(10)\n",
    "\n",
    "\n",
    "def featureQ8(datum):\n",
    "  feat = [0]*1000\n",
    "  r = ''.join([c for c in datum['review/text'].lower() if not c in punctuation])\n",
    "  if len(r.split())> 0:\n",
    "      for w in r.split():\n",
    "        if w in words1000:\n",
    "          feat[wordId[w]] += idf[w]\n",
    "      featd = [  float(f)/len(r.split())  for f in feat] \n",
    "      featd.append(1)\n",
    "      return featd\n",
    "  feat.append(1) #offset\n",
    "  return feat\n",
    "\n",
    "X = [featureQ8(d) for d in data]\n",
    "y = [d['review/overall'] for d in data]\n",
    "clf = linear_model.Ridge(1.0, fit_intercept=False)\n",
    "clf.fit(X, y)\n",
    "theta = clf.coef_\n",
    "predictions = clf.predict(X)\n",
    "print \"MSE: \" + str(mean_squared_error(predictions,y))\n"
   ]
  },
  {
   "cell_type": "code",
   "execution_count": null,
   "metadata": {
    "collapsed": true
   },
   "outputs": [],
   "source": []
  },
  {
   "cell_type": "code",
   "execution_count": null,
   "metadata": {
    "collapsed": true
   },
   "outputs": [],
   "source": []
  }
 ],
 "metadata": {
  "kernelspec": {
   "display_name": "Python 2",
   "language": "python",
   "name": "python2"
  },
  "language_info": {
   "codemirror_mode": {
    "name": "ipython",
    "version": 2
   },
   "file_extension": ".py",
   "mimetype": "text/x-python",
   "name": "python",
   "nbconvert_exporter": "python",
   "pygments_lexer": "ipython2",
   "version": "2.7.13"
  }
 },
 "nbformat": 4,
 "nbformat_minor": 2
}
